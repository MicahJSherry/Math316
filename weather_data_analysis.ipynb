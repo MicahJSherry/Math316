{
 "cells": [
  {
   "cell_type": "markdown",
   "id": "412d3bec",
   "metadata": {},
   "source": [
    "# Pittsburgh Weather Data Analysis\n",
    "\n",
    "This notebook analyzes Pittsburgh hourly weather normals from 1981-2010. We'll start by loading the data and exploring its structure to understand what information is available for analysis."
   ]
  },
  {
   "cell_type": "code",
   "execution_count": 22,
   "id": "e83e32d8",
   "metadata": {},
   "outputs": [
    {
     "data": {
      "application/vnd.microsoft.datawrangler.viewer.v0+json": {
       "columns": [
        {
         "name": "index",
         "rawType": "int64",
         "type": "integer"
        },
        {
         "name": "STATION",
         "rawType": "object",
         "type": "string"
        },
        {
         "name": "DATE",
         "rawType": "object",
         "type": "string"
        },
        {
         "name": "LATITUDE",
         "rawType": "float64",
         "type": "float"
        },
        {
         "name": "LONGITUDE",
         "rawType": "float64",
         "type": "float"
        },
        {
         "name": "ELEVATION",
         "rawType": "float64",
         "type": "float"
        },
        {
         "name": "NAME",
         "rawType": "object",
         "type": "string"
        },
        {
         "name": "HLY-CLDH-NORMAL",
         "rawType": "int64",
         "type": "integer"
        },
        {
         "name": "HLY-CLDH-NORMAL_ATTRIBUTES",
         "rawType": "object",
         "type": "string"
        },
        {
         "name": "HLY-CLOD-PCTBKN",
         "rawType": "int64",
         "type": "integer"
        },
        {
         "name": "HLY-CLOD-PCTBKN_ATTRIBUTES",
         "rawType": "object",
         "type": "string"
        },
        {
         "name": "HLY-CLOD-PCTCLR",
         "rawType": "int64",
         "type": "integer"
        },
        {
         "name": "HLY-CLOD-PCTCLR_ATTRIBUTES",
         "rawType": "object",
         "type": "string"
        },
        {
         "name": "HLY-CLOD-PCTFEW",
         "rawType": "int64",
         "type": "integer"
        },
        {
         "name": "HLY-CLOD-PCTFEW_ATTRIBUTES",
         "rawType": "object",
         "type": "string"
        },
        {
         "name": "HLY-CLOD-PCTOVC",
         "rawType": "int64",
         "type": "integer"
        },
        {
         "name": "HLY-CLOD-PCTOVC_ATTRIBUTES",
         "rawType": "object",
         "type": "string"
        },
        {
         "name": "HLY-CLOD-PCTSCT",
         "rawType": "int64",
         "type": "integer"
        },
        {
         "name": "HLY-CLOD-PCTSCT_ATTRIBUTES",
         "rawType": "object",
         "type": "string"
        },
        {
         "name": "HLY-DEWP-10PCTL",
         "rawType": "int64",
         "type": "integer"
        },
        {
         "name": "HLY-DEWP-10PCTL_ATTRIBUTES",
         "rawType": "object",
         "type": "string"
        },
        {
         "name": "HLY-DEWP-90PCTL",
         "rawType": "int64",
         "type": "integer"
        },
        {
         "name": "HLY-DEWP-90PCTL_ATTRIBUTES",
         "rawType": "object",
         "type": "string"
        },
        {
         "name": "HLY-DEWP-NORMAL",
         "rawType": "int64",
         "type": "integer"
        },
        {
         "name": "HLY-DEWP-NORMAL_ATTRIBUTES",
         "rawType": "object",
         "type": "string"
        },
        {
         "name": "HLY-HIDX-NORMAL",
         "rawType": "int64",
         "type": "integer"
        },
        {
         "name": "HLY-HIDX-NORMAL_ATTRIBUTES",
         "rawType": "object",
         "type": "string"
        },
        {
         "name": "HLY-HTDH-NORMAL",
         "rawType": "int64",
         "type": "integer"
        },
        {
         "name": "HLY-HTDH-NORMAL_ATTRIBUTES",
         "rawType": "object",
         "type": "string"
        },
        {
         "name": "HLY-PRES-10PCTL",
         "rawType": "int64",
         "type": "integer"
        },
        {
         "name": "HLY-PRES-10PCTL_ATTRIBUTES",
         "rawType": "object",
         "type": "string"
        },
        {
         "name": "HLY-PRES-90PCTL",
         "rawType": "int64",
         "type": "integer"
        },
        {
         "name": "HLY-PRES-90PCTL_ATTRIBUTES",
         "rawType": "object",
         "type": "string"
        },
        {
         "name": "HLY-PRES-NORMAL",
         "rawType": "int64",
         "type": "integer"
        },
        {
         "name": "HLY-PRES-NORMAL_ATTRIBUTES",
         "rawType": "object",
         "type": "string"
        },
        {
         "name": "HLY-TEMP-10PCTL",
         "rawType": "int64",
         "type": "integer"
        },
        {
         "name": "HLY-TEMP-10PCTL_ATTRIBUTES",
         "rawType": "object",
         "type": "string"
        },
        {
         "name": "HLY-TEMP-90PCTL",
         "rawType": "int64",
         "type": "integer"
        },
        {
         "name": "HLY-TEMP-90PCTL_ATTRIBUTES",
         "rawType": "object",
         "type": "string"
        },
        {
         "name": "HLY-TEMP-NORMAL",
         "rawType": "int64",
         "type": "integer"
        },
        {
         "name": "HLY-TEMP-NORMAL_ATTRIBUTES",
         "rawType": "object",
         "type": "string"
        },
        {
         "name": "HLY-WCHL-NORMAL",
         "rawType": "int64",
         "type": "integer"
        },
        {
         "name": "HLY-WCHL-NORMAL_ATTRIBUTES",
         "rawType": "object",
         "type": "string"
        },
        {
         "name": "HLY-WIND-1STDIR",
         "rawType": "int64",
         "type": "integer"
        },
        {
         "name": "HLY-WIND-1STDIR_ATTRIBUTES",
         "rawType": "object",
         "type": "string"
        },
        {
         "name": "HLY-WIND-1STPCT",
         "rawType": "int64",
         "type": "integer"
        },
        {
         "name": "HLY-WIND-1STPCT_ATTRIBUTES",
         "rawType": "object",
         "type": "string"
        },
        {
         "name": "HLY-WIND-2NDDIR",
         "rawType": "int64",
         "type": "integer"
        },
        {
         "name": "HLY-WIND-2NDDIR_ATTRIBUTES",
         "rawType": "object",
         "type": "string"
        },
        {
         "name": "HLY-WIND-2NDPCT",
         "rawType": "int64",
         "type": "integer"
        },
        {
         "name": "HLY-WIND-2NDPCT_ATTRIBUTES",
         "rawType": "object",
         "type": "string"
        },
        {
         "name": "HLY-WIND-AVGSPD",
         "rawType": "int64",
         "type": "integer"
        },
        {
         "name": "HLY-WIND-AVGSPD_ATTRIBUTES",
         "rawType": "object",
         "type": "string"
        },
        {
         "name": "HLY-WIND-PCTCLM",
         "rawType": "int64",
         "type": "integer"
        },
        {
         "name": "HLY-WIND-PCTCLM_ATTRIBUTES",
         "rawType": "object",
         "type": "string"
        },
        {
         "name": "HLY-WIND-VCTDIR",
         "rawType": "int64",
         "type": "integer"
        },
        {
         "name": "HLY-WIND-VCTDIR_ATTRIBUTES",
         "rawType": "object",
         "type": "string"
        },
        {
         "name": "HLY-WIND-VCTSPD",
         "rawType": "int64",
         "type": "integer"
        },
        {
         "name": "HLY-WIND-VCTSPD_ATTRIBUTES",
         "rawType": "object",
         "type": "string"
        }
       ],
       "ref": "5d71f5f7-410a-4198-a250-f8018ed7321d",
       "rows": [
        [
         "0",
         "USW00094823",
         "01-01T00:00:00",
         "40.4846",
         "-80.2144",
         "366.7",
         "PITTSBURGH ASOS, PA US",
         "-7777",
         "P",
         "101",
         "C",
         "121",
         "C",
         "87",
         "C",
         "649",
         "C",
         "43",
         "C",
         "50",
         "P",
         "399",
         "P",
         "216",
         "P",
         "285",
         "S",
         "365",
         "P",
         "10084",
         "P",
         "10308",
         "P",
         "10201",
         "P",
         "120",
         "P",
         "450",
         "P",
         "285",
         "P",
         "213",
         "S",
         "7",
         "S",
         "254",
         "S",
         "6",
         "S",
         "194",
         "S",
         "85",
         "S",
         "89",
         "S",
         "252",
         "S",
         "42",
         "S"
        ],
        [
         "1",
         "USW00094823",
         "01-01T01:00:00",
         "40.4846",
         "-80.2144",
         "366.7",
         "PITTSBURGH ASOS, PA US",
         "-7777",
         "C",
         "86",
         "C",
         "109",
         "C",
         "86",
         "C",
         "667",
         "C",
         "52",
         "C",
         "61",
         "C",
         "410",
         "C",
         "227",
         "C",
         "293",
         "C",
         "357",
         "C",
         "10078",
         "C",
         "10304",
         "C",
         "10193",
         "C",
         "129",
         "C",
         "460",
         "C",
         "293",
         "C",
         "224",
         "C",
         "7",
         "C",
         "280",
         "C",
         "6",
         "C",
         "178",
         "C",
         "83",
         "C",
         "96",
         "C",
         "252",
         "C",
         "42",
         "C"
        ],
        [
         "2",
         "USW00094823",
         "01-01T02:00:00",
         "40.4846",
         "-80.2144",
         "366.7",
         "PITTSBURGH ASOS, PA US",
         "0",
         "C",
         "103",
         "C",
         "119",
         "C",
         "99",
         "C",
         "647",
         "C",
         "31",
         "C",
         "61",
         "C",
         "421",
         "C",
         "226",
         "C",
         "290",
         "C",
         "360",
         "C",
         "10077",
         "C",
         "10307",
         "C",
         "10193",
         "C",
         "140",
         "C",
         "450",
         "C",
         "290",
         "C",
         "222",
         "C",
         "7",
         "C",
         "251",
         "C",
         "6",
         "C",
         "191",
         "C",
         "82",
         "C",
         "122",
         "C",
         "252",
         "C",
         "41",
         "C"
        ],
        [
         "3",
         "USW00094823",
         "01-01T03:00:00",
         "40.4846",
         "-80.2144",
         "366.7",
         "PITTSBURGH ASOS, PA US",
         "0",
         "C",
         "81",
         "C",
         "121",
         "C",
         "83",
         "C",
         "683",
         "C",
         "31",
         "C",
         "61",
         "C",
         "421",
         "C",
         "225",
         "C",
         "287",
         "C",
         "363",
         "C",
         "10080",
         "C",
         "10308",
         "C",
         "10196",
         "C",
         "140",
         "C",
         "450",
         "C",
         "287",
         "C",
         "220",
         "C",
         "7",
         "C",
         "258",
         "C",
         "6",
         "C",
         "194",
         "C",
         "80",
         "C",
         "122",
         "C",
         "251",
         "C",
         "40",
         "C"
        ],
        [
         "4",
         "USW00094823",
         "01-01T04:00:00",
         "40.4846",
         "-80.2144",
         "366.7",
         "PITTSBURGH ASOS, PA US",
         "0",
         "C",
         "90",
         "C",
         "128",
         "C",
         "65",
         "C",
         "682",
         "C",
         "36",
         "C",
         "61",
         "C",
         "410",
         "C",
         "224",
         "C",
         "285",
         "C",
         "365",
         "C",
         "10078",
         "C",
         "10309",
         "C",
         "10194",
         "C",
         "129",
         "C",
         "441",
         "C",
         "285",
         "C",
         "216",
         "C",
         "7",
         "C",
         "237",
         "C",
         "6",
         "C",
         "210",
         "C",
         "81",
         "C",
         "102",
         "C",
         "252",
         "C",
         "40",
         "C"
        ]
       ],
       "shape": {
        "columns": 58,
        "rows": 5
       }
      },
      "text/html": [
       "<div>\n",
       "<style scoped>\n",
       "    .dataframe tbody tr th:only-of-type {\n",
       "        vertical-align: middle;\n",
       "    }\n",
       "\n",
       "    .dataframe tbody tr th {\n",
       "        vertical-align: top;\n",
       "    }\n",
       "\n",
       "    .dataframe thead th {\n",
       "        text-align: right;\n",
       "    }\n",
       "</style>\n",
       "<table border=\"1\" class=\"dataframe\">\n",
       "  <thead>\n",
       "    <tr style=\"text-align: right;\">\n",
       "      <th></th>\n",
       "      <th>STATION</th>\n",
       "      <th>DATE</th>\n",
       "      <th>LATITUDE</th>\n",
       "      <th>LONGITUDE</th>\n",
       "      <th>ELEVATION</th>\n",
       "      <th>NAME</th>\n",
       "      <th>HLY-CLDH-NORMAL</th>\n",
       "      <th>HLY-CLDH-NORMAL_ATTRIBUTES</th>\n",
       "      <th>HLY-CLOD-PCTBKN</th>\n",
       "      <th>HLY-CLOD-PCTBKN_ATTRIBUTES</th>\n",
       "      <th>...</th>\n",
       "      <th>HLY-WIND-2NDPCT</th>\n",
       "      <th>HLY-WIND-2NDPCT_ATTRIBUTES</th>\n",
       "      <th>HLY-WIND-AVGSPD</th>\n",
       "      <th>HLY-WIND-AVGSPD_ATTRIBUTES</th>\n",
       "      <th>HLY-WIND-PCTCLM</th>\n",
       "      <th>HLY-WIND-PCTCLM_ATTRIBUTES</th>\n",
       "      <th>HLY-WIND-VCTDIR</th>\n",
       "      <th>HLY-WIND-VCTDIR_ATTRIBUTES</th>\n",
       "      <th>HLY-WIND-VCTSPD</th>\n",
       "      <th>HLY-WIND-VCTSPD_ATTRIBUTES</th>\n",
       "    </tr>\n",
       "  </thead>\n",
       "  <tbody>\n",
       "    <tr>\n",
       "      <th>0</th>\n",
       "      <td>USW00094823</td>\n",
       "      <td>01-01T00:00:00</td>\n",
       "      <td>40.4846</td>\n",
       "      <td>-80.2144</td>\n",
       "      <td>366.7</td>\n",
       "      <td>PITTSBURGH ASOS, PA US</td>\n",
       "      <td>-7777</td>\n",
       "      <td>P</td>\n",
       "      <td>101</td>\n",
       "      <td>C</td>\n",
       "      <td>...</td>\n",
       "      <td>194</td>\n",
       "      <td>S</td>\n",
       "      <td>85</td>\n",
       "      <td>S</td>\n",
       "      <td>89</td>\n",
       "      <td>S</td>\n",
       "      <td>252</td>\n",
       "      <td>S</td>\n",
       "      <td>42</td>\n",
       "      <td>S</td>\n",
       "    </tr>\n",
       "    <tr>\n",
       "      <th>1</th>\n",
       "      <td>USW00094823</td>\n",
       "      <td>01-01T01:00:00</td>\n",
       "      <td>40.4846</td>\n",
       "      <td>-80.2144</td>\n",
       "      <td>366.7</td>\n",
       "      <td>PITTSBURGH ASOS, PA US</td>\n",
       "      <td>-7777</td>\n",
       "      <td>C</td>\n",
       "      <td>86</td>\n",
       "      <td>C</td>\n",
       "      <td>...</td>\n",
       "      <td>178</td>\n",
       "      <td>C</td>\n",
       "      <td>83</td>\n",
       "      <td>C</td>\n",
       "      <td>96</td>\n",
       "      <td>C</td>\n",
       "      <td>252</td>\n",
       "      <td>C</td>\n",
       "      <td>42</td>\n",
       "      <td>C</td>\n",
       "    </tr>\n",
       "    <tr>\n",
       "      <th>2</th>\n",
       "      <td>USW00094823</td>\n",
       "      <td>01-01T02:00:00</td>\n",
       "      <td>40.4846</td>\n",
       "      <td>-80.2144</td>\n",
       "      <td>366.7</td>\n",
       "      <td>PITTSBURGH ASOS, PA US</td>\n",
       "      <td>0</td>\n",
       "      <td>C</td>\n",
       "      <td>103</td>\n",
       "      <td>C</td>\n",
       "      <td>...</td>\n",
       "      <td>191</td>\n",
       "      <td>C</td>\n",
       "      <td>82</td>\n",
       "      <td>C</td>\n",
       "      <td>122</td>\n",
       "      <td>C</td>\n",
       "      <td>252</td>\n",
       "      <td>C</td>\n",
       "      <td>41</td>\n",
       "      <td>C</td>\n",
       "    </tr>\n",
       "    <tr>\n",
       "      <th>3</th>\n",
       "      <td>USW00094823</td>\n",
       "      <td>01-01T03:00:00</td>\n",
       "      <td>40.4846</td>\n",
       "      <td>-80.2144</td>\n",
       "      <td>366.7</td>\n",
       "      <td>PITTSBURGH ASOS, PA US</td>\n",
       "      <td>0</td>\n",
       "      <td>C</td>\n",
       "      <td>81</td>\n",
       "      <td>C</td>\n",
       "      <td>...</td>\n",
       "      <td>194</td>\n",
       "      <td>C</td>\n",
       "      <td>80</td>\n",
       "      <td>C</td>\n",
       "      <td>122</td>\n",
       "      <td>C</td>\n",
       "      <td>251</td>\n",
       "      <td>C</td>\n",
       "      <td>40</td>\n",
       "      <td>C</td>\n",
       "    </tr>\n",
       "    <tr>\n",
       "      <th>4</th>\n",
       "      <td>USW00094823</td>\n",
       "      <td>01-01T04:00:00</td>\n",
       "      <td>40.4846</td>\n",
       "      <td>-80.2144</td>\n",
       "      <td>366.7</td>\n",
       "      <td>PITTSBURGH ASOS, PA US</td>\n",
       "      <td>0</td>\n",
       "      <td>C</td>\n",
       "      <td>90</td>\n",
       "      <td>C</td>\n",
       "      <td>...</td>\n",
       "      <td>210</td>\n",
       "      <td>C</td>\n",
       "      <td>81</td>\n",
       "      <td>C</td>\n",
       "      <td>102</td>\n",
       "      <td>C</td>\n",
       "      <td>252</td>\n",
       "      <td>C</td>\n",
       "      <td>40</td>\n",
       "      <td>C</td>\n",
       "    </tr>\n",
       "  </tbody>\n",
       "</table>\n",
       "<p>5 rows × 58 columns</p>\n",
       "</div>"
      ],
      "text/plain": [
       "       STATION            DATE  LATITUDE  LONGITUDE  ELEVATION  \\\n",
       "0  USW00094823  01-01T00:00:00   40.4846   -80.2144      366.7   \n",
       "1  USW00094823  01-01T01:00:00   40.4846   -80.2144      366.7   \n",
       "2  USW00094823  01-01T02:00:00   40.4846   -80.2144      366.7   \n",
       "3  USW00094823  01-01T03:00:00   40.4846   -80.2144      366.7   \n",
       "4  USW00094823  01-01T04:00:00   40.4846   -80.2144      366.7   \n",
       "\n",
       "                     NAME  HLY-CLDH-NORMAL HLY-CLDH-NORMAL_ATTRIBUTES  \\\n",
       "0  PITTSBURGH ASOS, PA US            -7777                          P   \n",
       "1  PITTSBURGH ASOS, PA US            -7777                          C   \n",
       "2  PITTSBURGH ASOS, PA US                0                          C   \n",
       "3  PITTSBURGH ASOS, PA US                0                          C   \n",
       "4  PITTSBURGH ASOS, PA US                0                          C   \n",
       "\n",
       "   HLY-CLOD-PCTBKN HLY-CLOD-PCTBKN_ATTRIBUTES  ...  HLY-WIND-2NDPCT  \\\n",
       "0              101                          C  ...              194   \n",
       "1               86                          C  ...              178   \n",
       "2              103                          C  ...              191   \n",
       "3               81                          C  ...              194   \n",
       "4               90                          C  ...              210   \n",
       "\n",
       "  HLY-WIND-2NDPCT_ATTRIBUTES  HLY-WIND-AVGSPD HLY-WIND-AVGSPD_ATTRIBUTES  \\\n",
       "0                          S               85                          S   \n",
       "1                          C               83                          C   \n",
       "2                          C               82                          C   \n",
       "3                          C               80                          C   \n",
       "4                          C               81                          C   \n",
       "\n",
       "   HLY-WIND-PCTCLM HLY-WIND-PCTCLM_ATTRIBUTES  HLY-WIND-VCTDIR  \\\n",
       "0               89                          S              252   \n",
       "1               96                          C              252   \n",
       "2              122                          C              252   \n",
       "3              122                          C              251   \n",
       "4              102                          C              252   \n",
       "\n",
       "  HLY-WIND-VCTDIR_ATTRIBUTES  HLY-WIND-VCTSPD HLY-WIND-VCTSPD_ATTRIBUTES  \n",
       "0                          S               42                          S  \n",
       "1                          C               42                          C  \n",
       "2                          C               41                          C  \n",
       "3                          C               40                          C  \n",
       "4                          C               40                          C  \n",
       "\n",
       "[5 rows x 58 columns]"
      ]
     },
     "execution_count": 22,
     "metadata": {},
     "output_type": "execute_result"
    }
   ],
   "source": [
    "# Step 1: Imports\n",
    "import pandas as pd\n",
    "import matplotlib.pyplot as plt\n",
    "import seaborn as sns\n",
    "\n",
    "# Load dataset (CSV or TSV)\n",
    "df = pd.read_csv(\"Pittsburgh_hourly_normals_1981_2010.csv\")\n",
    "# If TSV: df = pd.read_csv(\"Pittsburgh_hourly_normals_1981_2010.tsv\", sep=\"\\t\")\n",
    "\n",
    "df.head()\n"
   ]
  },
  {
   "cell_type": "code",
   "execution_count": 6,
   "id": "bc69b492",
   "metadata": {},
   "outputs": [
    {
     "data": {
      "text/plain": [
       "['STATION',\n",
       " 'DATE',\n",
       " 'LATITUDE',\n",
       " 'LONGITUDE',\n",
       " 'ELEVATION',\n",
       " 'NAME',\n",
       " 'HLY-CLDH-NORMAL',\n",
       " 'HLY-CLDH-NORMAL_ATTRIBUTES',\n",
       " 'HLY-CLOD-PCTBKN',\n",
       " 'HLY-CLOD-PCTBKN_ATTRIBUTES',\n",
       " 'HLY-CLOD-PCTCLR',\n",
       " 'HLY-CLOD-PCTCLR_ATTRIBUTES',\n",
       " 'HLY-CLOD-PCTFEW',\n",
       " 'HLY-CLOD-PCTFEW_ATTRIBUTES',\n",
       " 'HLY-CLOD-PCTOVC',\n",
       " 'HLY-CLOD-PCTOVC_ATTRIBUTES',\n",
       " 'HLY-CLOD-PCTSCT',\n",
       " 'HLY-CLOD-PCTSCT_ATTRIBUTES',\n",
       " 'HLY-DEWP-10PCTL',\n",
       " 'HLY-DEWP-10PCTL_ATTRIBUTES',\n",
       " 'HLY-DEWP-90PCTL',\n",
       " 'HLY-DEWP-90PCTL_ATTRIBUTES',\n",
       " 'HLY-DEWP-NORMAL',\n",
       " 'HLY-DEWP-NORMAL_ATTRIBUTES',\n",
       " 'HLY-HIDX-NORMAL',\n",
       " 'HLY-HIDX-NORMAL_ATTRIBUTES',\n",
       " 'HLY-HTDH-NORMAL',\n",
       " 'HLY-HTDH-NORMAL_ATTRIBUTES',\n",
       " 'HLY-PRES-10PCTL',\n",
       " 'HLY-PRES-10PCTL_ATTRIBUTES',\n",
       " 'HLY-PRES-90PCTL',\n",
       " 'HLY-PRES-90PCTL_ATTRIBUTES',\n",
       " 'HLY-PRES-NORMAL',\n",
       " 'HLY-PRES-NORMAL_ATTRIBUTES',\n",
       " 'HLY-TEMP-10PCTL',\n",
       " 'HLY-TEMP-10PCTL_ATTRIBUTES',\n",
       " 'HLY-TEMP-90PCTL',\n",
       " 'HLY-TEMP-90PCTL_ATTRIBUTES',\n",
       " 'HLY-TEMP-NORMAL',\n",
       " 'HLY-TEMP-NORMAL_ATTRIBUTES',\n",
       " 'HLY-WCHL-NORMAL',\n",
       " 'HLY-WCHL-NORMAL_ATTRIBUTES',\n",
       " 'HLY-WIND-1STDIR',\n",
       " 'HLY-WIND-1STDIR_ATTRIBUTES',\n",
       " 'HLY-WIND-1STPCT',\n",
       " 'HLY-WIND-1STPCT_ATTRIBUTES',\n",
       " 'HLY-WIND-2NDDIR',\n",
       " 'HLY-WIND-2NDDIR_ATTRIBUTES',\n",
       " 'HLY-WIND-2NDPCT',\n",
       " 'HLY-WIND-2NDPCT_ATTRIBUTES',\n",
       " 'HLY-WIND-AVGSPD',\n",
       " 'HLY-WIND-AVGSPD_ATTRIBUTES',\n",
       " 'HLY-WIND-PCTCLM',\n",
       " 'HLY-WIND-PCTCLM_ATTRIBUTES',\n",
       " 'HLY-WIND-VCTDIR',\n",
       " 'HLY-WIND-VCTDIR_ATTRIBUTES',\n",
       " 'HLY-WIND-VCTSPD',\n",
       " 'HLY-WIND-VCTSPD_ATTRIBUTES']"
      ]
     },
     "execution_count": 6,
     "metadata": {},
     "output_type": "execute_result"
    }
   ],
   "source": [
    "df.columns.tolist()"
   ]
  },
  {
   "cell_type": "code",
   "execution_count": 10,
   "id": "17384f0e",
   "metadata": {},
   "outputs": [
    {
     "data": {
      "application/vnd.microsoft.datawrangler.viewer.v0+json": {
       "columns": [
        {
         "name": "index",
         "rawType": "int64",
         "type": "integer"
        }
       ],
       "ref": "286e9701-6199-443d-9884-40ed3a43c039",
       "rows": [
        [
         "0"
        ],
        [
         "1"
        ],
        [
         "2"
        ],
        [
         "3"
        ],
        [
         "4"
        ]
       ],
       "shape": {
        "columns": 0,
        "rows": 5
       }
      },
      "text/html": [
       "<div>\n",
       "<style scoped>\n",
       "    .dataframe tbody tr th:only-of-type {\n",
       "        vertical-align: middle;\n",
       "    }\n",
       "\n",
       "    .dataframe tbody tr th {\n",
       "        vertical-align: top;\n",
       "    }\n",
       "\n",
       "    .dataframe thead th {\n",
       "        text-align: right;\n",
       "    }\n",
       "</style>\n",
       "<table border=\"1\" class=\"dataframe\">\n",
       "  <thead>\n",
       "    <tr style=\"text-align: right;\">\n",
       "      <th></th>\n",
       "    </tr>\n",
       "  </thead>\n",
       "  <tbody>\n",
       "    <tr>\n",
       "      <th>0</th>\n",
       "    </tr>\n",
       "    <tr>\n",
       "      <th>1</th>\n",
       "    </tr>\n",
       "    <tr>\n",
       "      <th>2</th>\n",
       "    </tr>\n",
       "    <tr>\n",
       "      <th>3</th>\n",
       "    </tr>\n",
       "    <tr>\n",
       "      <th>4</th>\n",
       "    </tr>\n",
       "  </tbody>\n",
       "</table>\n",
       "</div>"
      ],
      "text/plain": [
       "Empty DataFrame\n",
       "Columns: []\n",
       "Index: [0, 1, 2, 3, 4]"
      ]
     },
     "execution_count": 10,
     "metadata": {},
     "output_type": "execute_result"
    }
   ],
   "source": [
    "df.filter(like=\"TEMP\").head()\n",
    "df.filter(like=\"PRCP\").head()"
   ]
  },
  {
   "cell_type": "code",
   "execution_count": 23,
   "id": "a254aff0",
   "metadata": {},
   "outputs": [],
   "source": [
    "df[\"DATE\"] = pd.to_datetime(\"2000-\" + df[\"DATE\"].astype(str), errors=\"coerce\")\n",
    "df[\"Month\"] = df[\"DATE\"].dt.month\n",
    "df[\"Hour\"] = df[\"DATE\"].dt.hour"
   ]
  },
  {
   "cell_type": "code",
   "execution_count": 24,
   "id": "c1dee673",
   "metadata": {},
   "outputs": [],
   "source": [
    "monthly_temps = df.groupby(\"Month\")[\"HLY-TEMP-NORMAL\"].mean()\n",
    "monthly_dewp  = df.groupby(\"Month\")[\"HLY-DEWP-NORMAL\"].mean()\n",
    "monthly_wind  = df.groupby(\"Month\")[\"HLY-WIND-VCTSPD\"].mean()"
   ]
  },
  {
   "cell_type": "code",
   "execution_count": 25,
   "id": "9d6b274e",
   "metadata": {},
   "outputs": [
    {
     "data": {
      "image/png": "[encoded data removed]",
      "text/plain": [
       "<Figure size 640x480 with 1 Axes>"
      ]
     },
     "metadata": {},
     "output_type": "display_data"
    },
    {
     "data": {
      "image/png": "[encoded data removed]",
      "text/plain": [
       "<Figure size 640x480 with 1 Axes>"
      ]
     },
     "metadata": {},
     "output_type": "display_data"
    },
    {
     "data": {
      "image/png": "[encoded data removed]",
      "text/plain": [
       "<Figure size 640x480 with 1 Axes>"
      ]
     },
     "metadata": {},
     "output_type": "display_data"
    }
   ],
   "source": [
    "import matplotlib.pyplot as plt\n",
    "\n",
    "monthly_temps.plot(marker=\"o\", title=\"Avg Monthly Temperature (Pittsburgh)\")\n",
    "plt.ylabel(\"°F\")\n",
    "plt.show()\n",
    "\n",
    "monthly_dewp.plot(marker=\"o\", color=\"orange\", title=\"Avg Monthly Dew Point (Pittsburgh)\")\n",
    "plt.ylabel(\"°F\")\n",
    "plt.show()\n",
    "\n",
    "monthly_wind.plot(marker=\"o\", color=\"green\", title=\"Avg Monthly Wind Speed (Pittsburgh)\")\n",
    "plt.ylabel(\"mph\")\n",
    "plt.show()"
   ]
  },
  {
   "cell_type": "code",
   "execution_count": 26,
   "id": "816b4432",
   "metadata": {},
   "outputs": [
    {
     "data": {
      "image/png": "[encoded data removed]",
      "text/plain": [
       "<Figure size 640x480 with 1 Axes>"
      ]
     },
     "metadata": {},
     "output_type": "display_data"
    }
   ],
   "source": [
    "# Step 6: Cloud Cover Example\n",
    "cloud_cover = df.groupby(\"Month\")[[\"HLY-CLOD-PCTCLR\", \"HLY-CLOD-PCTOVC\"]].mean()\n",
    "\n",
    "cloud_cover.plot(kind=\"bar\", title=\"Cloud Cover: Clear vs Overcast (Pittsburgh)\")\n",
    "plt.ylabel(\"Percent\")\n",
    "plt.show()"
   ]
  },
  {
   "cell_type": "code",
   "execution_count": 27,
   "id": "20eb963e",
   "metadata": {},
   "outputs": [
    {
     "data": {
      "image/png": "[encoded data removed]",
      "text/plain": [
       "<Figure size 1200x600 with 2 Axes>"
      ]
     },
     "metadata": {},
     "output_type": "display_data"
    }
   ],
   "source": [
    "heatmap_data = df.pivot_table(values=\"HLY-TEMP-NORMAL\", index=\"Hour\", columns=\"Month\")\n",
    "\n",
    "plt.figure(figsize=(12,6))\n",
    "sns.heatmap(heatmap_data, cmap=\"coolwarm\")\n",
    "plt.title(\"Pittsburgh Hourly Temperature Patterns by Month (1981–2010)\")\n",
    "plt.show()"
   ]
  }
 ],
 "metadata": {
  "kernelspec": {
   "display_name": "ds316",
   "language": "python",
   "name": "python3"
  },
  "language_info": {
   "codemirror_mode": {
    "name": "ipython",
    "version": 3
   },
   "file_extension": ".py",
   "mimetype": "text/x-python",
   "name": "python",
   "nbconvert_exporter": "python",
   "pygments_lexer": "ipython3",
   "version": "3.13.7"
  }
 },
 "nbformat": 4,
 "nbformat_minor": 5
}
